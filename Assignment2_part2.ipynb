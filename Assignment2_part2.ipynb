{
 "cells": [
  {
   "cell_type": "code",
   "execution_count": 54,
   "id": "2bddd1aa",
   "metadata": {},
   "outputs": [],
   "source": [
    "import six\n",
    "import sys\n",
    "sys.modules['sklearn.externals.six'] = six\n",
    "\n",
    "import pandas as pd\n",
    "import numpy as np\n",
    "from sklearn.model_selection import train_test_split\n",
    "from sklearn.preprocessing import StandardScaler\n",
    "import mlrose_hiive as mlrose\n",
    "import mlrose as mlrose_old\n",
    "from sklearn.metrics import accuracy_score, f1_score, mean_squared_error\n",
    "import seaborn as sns\n",
    "import time\n",
    "\n",
    "from mlrose_hiive.algorithms.decay import GeomDecay\n",
    "\n",
    "\n",
    "#Random State\n",
    "rs = 614"
   ]
  },
  {
   "cell_type": "code",
   "execution_count": 32,
   "id": "c059fb7f",
   "metadata": {},
   "outputs": [],
   "source": [
    "class Data():\n",
    "    def dataAllocation(self, path):\n",
    "        df = pd.read_csv(path)\n",
    "        x_data = df[['PriorDefault','Employed','CreditScore','YearsEmployed','Debt']].copy()\n",
    "        y_data = df['Approved'].copy()\n",
    "        return x_data,y_data\n",
    "\n",
    "    def trainSets(self,x_data,y_data):\n",
    "        x_train, x_test, y_train, y_test = train_test_split(x_data, y_data, test_size = 0.3, random_state = rs, shuffle = True)\n",
    "        return x_train, x_test, y_train, y_test\n",
    "dataset = Data()\n",
    "x1_data,y1_data = dataset.dataAllocation('clean_dataset.csv')\n",
    "x1_train, x1_test, y1_train, y1_test = dataset.trainSets(x1_data,y1_data)\n",
    "scaler = StandardScaler()\n",
    "scaled_x1_train = scaler.fit_transform(x1_train)\n",
    "scaled_x1_test = scaler.transform(x1_test)"
   ]
  },
  {
   "cell_type": "code",
   "execution_count": 33,
   "id": "49317e83",
   "metadata": {},
   "outputs": [
    {
     "data": {
      "text/plain": [
       "0    1\n",
       "1    1\n",
       "2    1\n",
       "3    1\n",
       "4    1\n",
       "Name: Approved, dtype: int64"
      ]
     },
     "execution_count": 33,
     "metadata": {},
     "output_type": "execute_result"
    }
   ],
   "source": [
    "y1_data.head()"
   ]
  },
  {
   "cell_type": "code",
   "execution_count": 128,
   "id": "e14b3f6e",
   "metadata": {},
   "outputs": [
    {
     "name": "stdout",
     "output_type": "stream",
     "text": [
      "gradient_descent\n",
      "[1, 'gradient_descent', 0.5548654244306418, 0.5797101449275363, 0.42028985507246375, 0.3255813953488372]\n",
      "[101, 'gradient_descent', 0.84472049689441, 0.8454106280193237, 0.15458937198067632, 0.8202247191011236]\n",
      "[201, 'gradient_descent', 0.8571428571428571, 0.8357487922705314, 0.1642512077294686, 0.8111111111111111]\n",
      "[301, 'gradient_descent', 0.8530020703933747, 0.8599033816425121, 0.14009661835748793, 0.8557213930348259]\n",
      "[401, 'gradient_descent', 0.8530020703933747, 0.8599033816425121, 0.14009661835748793, 0.8557213930348259]\n",
      "[501, 'gradient_descent', 0.8530020703933747, 0.8599033816425121, 0.14009661835748793, 0.8557213930348259]\n",
      "[601, 'gradient_descent', 0.8530020703933747, 0.8599033816425121, 0.14009661835748793, 0.8557213930348259]\n",
      "[701, 'gradient_descent', 0.8530020703933747, 0.8599033816425121, 0.14009661835748793, 0.8557213930348259]\n",
      "[801, 'gradient_descent', 0.8530020703933747, 0.8599033816425121, 0.14009661835748793, 0.8557213930348259]\n",
      "[901, 'gradient_descent', 0.8530020703933747, 0.8599033816425121, 0.14009661835748793, 0.8557213930348259]\n",
      "[1001, 'gradient_descent', 0.8530020703933747, 0.8599033816425121, 0.14009661835748793, 0.8557213930348259]\n",
      "[1101, 'gradient_descent', 0.8530020703933747, 0.8599033816425121, 0.14009661835748793, 0.8557213930348259]\n",
      "[1201, 'gradient_descent', 0.8530020703933747, 0.8599033816425121, 0.14009661835748793, 0.8557213930348259]\n",
      "[1301, 'gradient_descent', 0.8530020703933747, 0.8599033816425121, 0.14009661835748793, 0.8557213930348259]\n",
      "[1401, 'gradient_descent', 0.8530020703933747, 0.8599033816425121, 0.14009661835748793, 0.8557213930348259]\n",
      "[1501, 'gradient_descent', 0.8530020703933747, 0.8599033816425121, 0.14009661835748793, 0.8557213930348259]\n",
      "[1601, 'gradient_descent', 0.8530020703933747, 0.8599033816425121, 0.14009661835748793, 0.8557213930348259]\n",
      "[1701, 'gradient_descent', 0.8530020703933747, 0.8599033816425121, 0.14009661835748793, 0.8557213930348259]\n",
      "[1801, 'gradient_descent', 0.8530020703933747, 0.8599033816425121, 0.14009661835748793, 0.8557213930348259]\n",
      "[1901, 'gradient_descent', 0.8530020703933747, 0.8599033816425121, 0.14009661835748793, 0.8557213930348259]\n",
      "[2001, 'gradient_descent', 0.8530020703933747, 0.8599033816425121, 0.14009661835748793, 0.8557213930348259]\n",
      "[2101, 'gradient_descent', 0.8530020703933747, 0.8599033816425121, 0.14009661835748793, 0.8557213930348259]\n",
      "[2201, 'gradient_descent', 0.8530020703933747, 0.8599033816425121, 0.14009661835748793, 0.8557213930348259]\n",
      "[2301, 'gradient_descent', 0.8530020703933747, 0.8599033816425121, 0.14009661835748793, 0.8557213930348259]\n",
      "[2401, 'gradient_descent', 0.8530020703933747, 0.8599033816425121, 0.14009661835748793, 0.8557213930348259]\n",
      "[2501, 'gradient_descent', 0.8530020703933747, 0.8599033816425121, 0.14009661835748793, 0.8557213930348259]\n",
      "[2601, 'gradient_descent', 0.8530020703933747, 0.8599033816425121, 0.14009661835748793, 0.8557213930348259]\n",
      "[2701, 'gradient_descent', 0.8530020703933747, 0.8599033816425121, 0.14009661835748793, 0.8557213930348259]\n",
      "[2801, 'gradient_descent', 0.8530020703933747, 0.8599033816425121, 0.14009661835748793, 0.8557213930348259]\n",
      "[2901, 'gradient_descent', 0.8530020703933747, 0.8599033816425121, 0.14009661835748793, 0.8557213930348259]\n",
      "[3001, 'gradient_descent', 0.8530020703933747, 0.8599033816425121, 0.14009661835748793, 0.8557213930348259]\n",
      "[3101, 'gradient_descent', 0.8530020703933747, 0.8599033816425121, 0.14009661835748793, 0.8557213930348259]\n",
      "[3201, 'gradient_descent', 0.8530020703933747, 0.8599033816425121, 0.14009661835748793, 0.8557213930348259]\n",
      "[3301, 'gradient_descent', 0.8530020703933747, 0.8599033816425121, 0.14009661835748793, 0.8557213930348259]\n",
      "[3401, 'gradient_descent', 0.8530020703933747, 0.8599033816425121, 0.14009661835748793, 0.8557213930348259]\n",
      "[3501, 'gradient_descent', 0.8530020703933747, 0.8599033816425121, 0.14009661835748793, 0.8557213930348259]\n",
      "[3601, 'gradient_descent', 0.8530020703933747, 0.8599033816425121, 0.14009661835748793, 0.8557213930348259]\n",
      "[3701, 'gradient_descent', 0.8530020703933747, 0.8599033816425121, 0.14009661835748793, 0.8557213930348259]\n",
      "[3801, 'gradient_descent', 0.8530020703933747, 0.8599033816425121, 0.14009661835748793, 0.8557213930348259]\n",
      "[3901, 'gradient_descent', 0.8530020703933747, 0.8599033816425121, 0.14009661835748793, 0.8557213930348259]\n",
      "[4001, 'gradient_descent', 0.8530020703933747, 0.8599033816425121, 0.14009661835748793, 0.8557213930348259]\n",
      "[4101, 'gradient_descent', 0.8530020703933747, 0.8599033816425121, 0.14009661835748793, 0.8557213930348259]\n",
      "[4201, 'gradient_descent', 0.8530020703933747, 0.8599033816425121, 0.14009661835748793, 0.8557213930348259]\n",
      "[4301, 'gradient_descent', 0.8530020703933747, 0.8599033816425121, 0.14009661835748793, 0.8557213930348259]\n",
      "[4401, 'gradient_descent', 0.8530020703933747, 0.8599033816425121, 0.14009661835748793, 0.8557213930348259]\n",
      "[4501, 'gradient_descent', 0.8530020703933747, 0.8599033816425121, 0.14009661835748793, 0.8557213930348259]\n",
      "[4601, 'gradient_descent', 0.8530020703933747, 0.8599033816425121, 0.14009661835748793, 0.8557213930348259]\n",
      "[4701, 'gradient_descent', 0.8530020703933747, 0.8599033816425121, 0.14009661835748793, 0.8557213930348259]\n",
      "[4801, 'gradient_descent', 0.8530020703933747, 0.8599033816425121, 0.14009661835748793, 0.8557213930348259]\n",
      "[4901, 'gradient_descent', 0.8530020703933747, 0.8599033816425121, 0.14009661835748793, 0.8557213930348259]\n",
      "[5001, 'gradient_descent', 0.8530020703933747, 0.8599033816425121, 0.14009661835748793, 0.8557213930348259]\n"
     ]
    }
   ],
   "source": [
    "results = []\n",
    "algorithm = 'gradient_descent'\n",
    "print(algorithm)\n",
    "for i in range(1, 5002, 100):\n",
    "        model = mlrose.NeuralNetwork(hidden_nodes=[2], activation='sigmoid',\n",
    "                                        algorithm='gradient_descent', max_iters=i,\n",
    "                                        bias=True, is_classifier=True, learning_rate=0.01,\n",
    "                                        early_stopping=True, clip_max=5, max_attempts=100,\n",
    "                                        random_state=rs)\n",
    "        start = time.time()    \n",
    "        model.fit(scaled_x1_train, y1_train)\n",
    "        traintime = time.time()-start\n",
    "        start = time.time() \n",
    "        y_train_pred = model.predict(scaled_x1_train)\n",
    "        testime = time.time()-start\n",
    "        y_train_accuracy = accuracy_score(y1_train, y_train_pred)\n",
    "\n",
    "        y_test_pred = model.predict(scaled_x1_test)\n",
    "        y_test_accuracy = accuracy_score(y1_test, y_test_pred)\n",
    "        \n",
    "        y_test_error = mean_squared_error(y1_test, y_test_pred)\n",
    "\n",
    "        f1score = f1_score(y1_test, y_test_pred)\n",
    "\n",
    "        results.append([i, algorithm, y_train_accuracy, y_test_accuracy,y_test_error, f1score])\n",
    "        print([i, algorithm, y_train_accuracy, y_test_accuracy,y_test_error, f1score])"
   ]
  },
  {
   "cell_type": "code",
   "execution_count": null,
   "id": "ed87607a",
   "metadata": {},
   "outputs": [],
   "source": []
  },
  {
   "cell_type": "code",
   "execution_count": 49,
   "id": "9b4455de",
   "metadata": {},
   "outputs": [],
   "source": [
    "df = pd.DataFrame(results, columns=[\"Iterations\", \"Algorithm\", \"Train Accuracy\", \"Test Accuracy\", \"F1 Score\"])\n"
   ]
  },
  {
   "cell_type": "code",
   "execution_count": 65,
   "id": "86006871",
   "metadata": {},
   "outputs": [
    {
     "data": {
      "text/plain": [
       "<AxesSubplot:xlabel='Iterations', ylabel='Test Accuracy'>"
      ]
     },
     "execution_count": 65,
     "metadata": {},
     "output_type": "execute_result"
    },
    {
     "data": {
      "image/png": "[encoded data removed]",
      "text/plain": [
       "<Figure size 432x288 with 1 Axes>"
      ]
     },
     "metadata": {
      "needs_background": "light"
     },
     "output_type": "display_data"
    }
   ],
   "source": [
    "sns.lineplot(data=df, x=\"Iterations\", y=\"Test Accuracy\", label = 'Test',color = 'r')\n",
    "sns.lineplot(data=df, x=\"Iterations\", y=\"Train Accuracy\",label = 'Train',color = 'g')\n"
   ]
  },
  {
   "cell_type": "markdown",
   "id": "99ee2e51",
   "metadata": {},
   "source": [
    "## "
   ]
  },
  {
   "cell_type": "code",
   "execution_count": 92,
   "id": "ab37b4ad",
   "metadata": {},
   "outputs": [
    {
     "name": "stdout",
     "output_type": "stream",
     "text": [
      "[1, 'random_hill_climb', 0.5527950310559007, 0.5217391304347826, 0.6425992779783394]\n",
      "[101, 'random_hill_climb', 0.8592132505175983, 0.8502415458937198, 0.841025641025641]\n",
      "[201, 'random_hill_climb', 0.865424430641822, 0.8502415458937198, 0.8342245989304814]\n",
      "[301, 'random_hill_climb', 0.8612836438923396, 0.8454106280193237, 0.8279569892473119]\n",
      "[401, 'random_hill_climb', 0.8612836438923396, 0.8502415458937198, 0.8342245989304814]\n",
      "[501, 'random_hill_climb', 0.8633540372670807, 0.8502415458937198, 0.8342245989304814]\n",
      "[601, 'random_hill_climb', 0.8633540372670807, 0.8502415458937198, 0.8342245989304814]\n",
      "[701, 'random_hill_climb', 0.8633540372670807, 0.8502415458937198, 0.8342245989304814]\n",
      "[801, 'random_hill_climb', 0.8633540372670807, 0.8502415458937198, 0.8342245989304814]\n",
      "[901, 'random_hill_climb', 0.8633540372670807, 0.8502415458937198, 0.8342245989304814]\n",
      "[1001, 'random_hill_climb', 0.8633540372670807, 0.8502415458937198, 0.8342245989304814]\n",
      "[1101, 'random_hill_climb', 0.8633540372670807, 0.8502415458937198, 0.8342245989304814]\n",
      "[1201, 'random_hill_climb', 0.8633540372670807, 0.8502415458937198, 0.8342245989304814]\n",
      "[1301, 'random_hill_climb', 0.8633540372670807, 0.8502415458937198, 0.8342245989304814]\n",
      "[1401, 'random_hill_climb', 0.8633540372670807, 0.8502415458937198, 0.8342245989304814]\n",
      "[1501, 'random_hill_climb', 0.8633540372670807, 0.8502415458937198, 0.8342245989304814]\n",
      "[1601, 'random_hill_climb', 0.8633540372670807, 0.8502415458937198, 0.8342245989304814]\n",
      "[1701, 'random_hill_climb', 0.8633540372670807, 0.8502415458937198, 0.8342245989304814]\n",
      "[1801, 'random_hill_climb', 0.8633540372670807, 0.8502415458937198, 0.8342245989304814]\n",
      "[1901, 'random_hill_climb', 0.8633540372670807, 0.8502415458937198, 0.8342245989304814]\n",
      "[2001, 'random_hill_climb', 0.8633540372670807, 0.8502415458937198, 0.8342245989304814]\n",
      "[2101, 'random_hill_climb', 0.8633540372670807, 0.8502415458937198, 0.8342245989304814]\n",
      "[2201, 'random_hill_climb', 0.8633540372670807, 0.8502415458937198, 0.8342245989304814]\n",
      "[2301, 'random_hill_climb', 0.8633540372670807, 0.8502415458937198, 0.8342245989304814]\n",
      "[2401, 'random_hill_climb', 0.8633540372670807, 0.8502415458937198, 0.8342245989304814]\n",
      "[2501, 'random_hill_climb', 0.8633540372670807, 0.8502415458937198, 0.8342245989304814]\n",
      "[2601, 'random_hill_climb', 0.8633540372670807, 0.8502415458937198, 0.8342245989304814]\n",
      "[2701, 'random_hill_climb', 0.8633540372670807, 0.8502415458937198, 0.8342245989304814]\n",
      "[2801, 'random_hill_climb', 0.8633540372670807, 0.8502415458937198, 0.8342245989304814]\n",
      "[2901, 'random_hill_climb', 0.8633540372670807, 0.8502415458937198, 0.8342245989304814]\n",
      "[3001, 'random_hill_climb', 0.8633540372670807, 0.8502415458937198, 0.8342245989304814]\n",
      "[3101, 'random_hill_climb', 0.8633540372670807, 0.8502415458937198, 0.8342245989304814]\n",
      "[3201, 'random_hill_climb', 0.8633540372670807, 0.8502415458937198, 0.8342245989304814]\n",
      "[3301, 'random_hill_climb', 0.8633540372670807, 0.8502415458937198, 0.8342245989304814]\n",
      "[3401, 'random_hill_climb', 0.8633540372670807, 0.8502415458937198, 0.8342245989304814]\n",
      "[3501, 'random_hill_climb', 0.8633540372670807, 0.8502415458937198, 0.8342245989304814]\n",
      "[3601, 'random_hill_climb', 0.8633540372670807, 0.8502415458937198, 0.8342245989304814]\n",
      "[3701, 'random_hill_climb', 0.8633540372670807, 0.8502415458937198, 0.8342245989304814]\n",
      "[3801, 'random_hill_climb', 0.8633540372670807, 0.8502415458937198, 0.8342245989304814]\n",
      "[3901, 'random_hill_climb', 0.8633540372670807, 0.8502415458937198, 0.8342245989304814]\n",
      "[4001, 'random_hill_climb', 0.8633540372670807, 0.8502415458937198, 0.8342245989304814]\n",
      "[4101, 'random_hill_climb', 0.8633540372670807, 0.8502415458937198, 0.8342245989304814]\n",
      "[4201, 'random_hill_climb', 0.8633540372670807, 0.8502415458937198, 0.8342245989304814]\n",
      "[4301, 'random_hill_climb', 0.8633540372670807, 0.8502415458937198, 0.8342245989304814]\n",
      "[4401, 'random_hill_climb', 0.8633540372670807, 0.8502415458937198, 0.8342245989304814]\n",
      "[4501, 'random_hill_climb', 0.8633540372670807, 0.8502415458937198, 0.8342245989304814]\n",
      "[4601, 'random_hill_climb', 0.8633540372670807, 0.8502415458937198, 0.8342245989304814]\n",
      "[4701, 'random_hill_climb', 0.8633540372670807, 0.8502415458937198, 0.8342245989304814]\n",
      "[4801, 'random_hill_climb', 0.8633540372670807, 0.8502415458937198, 0.8342245989304814]\n",
      "[4901, 'random_hill_climb', 0.8633540372670807, 0.8502415458937198, 0.8342245989304814]\n",
      "[5001, 'random_hill_climb', 0.8633540372670807, 0.8502415458937198, 0.8342245989304814]\n"
     ]
    }
   ],
   "source": [
    "results = []\n",
    "algorithm = 'random_hill_climb'\n",
    "for i in range(1, 5002, 100):\n",
    "        model = mlrose.NeuralNetwork(hidden_nodes=[4], activation='tanh',\n",
    "                                        algorithm=algorithm, max_iters=i,\n",
    "                                        bias=True, is_classifier=True, learning_rate=0.5,\n",
    "                                        early_stopping=True, clip_max=5, max_attempts=100,\n",
    "                                        random_state=rs)\n",
    "        model.fit(scaled_x1_train, y1_train)\n",
    "        y_train_pred = model.predict(scaled_x1_train)\n",
    "        y_train_accuracy = accuracy_score(y1_train, y_train_pred)\n",
    "\n",
    "        y_test_pred = model.predict(scaled_x1_test)\n",
    "        y_test_accuracy = accuracy_score(y1_test, y_test_pred)\n",
    "\n",
    "        f1score = f1_score(y1_test, y_test_pred)\n",
    "\n",
    "        results.append([i, algorithm, y_train_accuracy, y_test_accuracy, f1score])\n",
    "        print([i, algorithm, y_train_accuracy, y_test_accuracy, f1score])"
   ]
  },
  {
   "cell_type": "code",
   "execution_count": 95,
   "id": "a7206479",
   "metadata": {},
   "outputs": [],
   "source": [
    "df = pd.DataFrame(results, columns=[\"Iterations\", \"Algorithm\", \"Train Accuracy\", \"Test Accuracy\", \"F1 Score\"])\n"
   ]
  },
  {
   "cell_type": "code",
   "execution_count": 97,
   "id": "4ec661be",
   "metadata": {},
   "outputs": [
    {
     "data": {
      "text/plain": [
       "<AxesSubplot:xlabel='Iterations', ylabel='Test Accuracy'>"
      ]
     },
     "execution_count": 97,
     "metadata": {},
     "output_type": "execute_result"
    },
    {
     "data": {
      "image/png": "[encoded data removed]",
      "text/plain": [
       "<Figure size 432x288 with 1 Axes>"
      ]
     },
     "metadata": {
      "needs_background": "light"
     },
     "output_type": "display_data"
    }
   ],
   "source": [
    "sns.lineplot(data=df, x=\"Iterations\", y=\"Test Accuracy\",color = \"r\", label='Test')\n",
    "sns.lineplot(data=df, x=\"Iterations\", y=\"Train Accuracy\", color=\"g\", label= 'Train')\n"
   ]
  },
  {
   "cell_type": "code",
   "execution_count": 13,
   "id": "ab46e6a4",
   "metadata": {},
   "outputs": [
    {
     "data": {
      "text/plain": [
       "<AxesSubplot:xlabel='Iterations', ylabel='Test Accuracy'>"
      ]
     },
     "execution_count": 13,
     "metadata": {},
     "output_type": "execute_result"
    },
    {
     "data": {
      "image/png": "[encoded data removed]",
      "text/plain": [
       "<Figure size 432x288 with 1 Axes>"
      ]
     },
     "metadata": {
      "needs_background": "light"
     },
     "output_type": "display_data"
    }
   ],
   "source": [
    "sns.lineplot(data=df, x=\"Iterations\", y=\"Test Accuracy\", hue=\"Algorithm\")\n"
   ]
  },
  {
   "cell_type": "code",
   "execution_count": 87,
   "id": "1d4bbfb6",
   "metadata": {},
   "outputs": [
    {
     "name": "stdout",
     "output_type": "stream",
     "text": [
      "[0.01, 'random_hill_climb', 0.7701863354037267, 0.7922705314009661, 0.8]\n",
      "[0.11, 'random_hill_climb', 0.8571428571428571, 0.8454106280193237, 0.8279569892473119]\n",
      "[0.21, 'random_hill_climb', 0.8674948240165632, 0.8502415458937198, 0.8359788359788359]\n",
      "[0.31, 'random_hill_climb', 0.8592132505175983, 0.8405797101449275, 0.8156424581005587]\n",
      "[0.41, 'random_hill_climb', 0.8633540372670807, 0.855072463768116, 0.84375]\n",
      "[0.51, 'random_hill_climb', 0.865424430641822, 0.8454106280193237, 0.8297872340425532]\n",
      "[0.61, 'random_hill_climb', 0.855072463768116, 0.8454106280193237, 0.8383838383838383]\n",
      "[0.71, 'random_hill_climb', 0.855072463768116, 0.8309178743961353, 0.8108108108108107]\n",
      "[0.81, 'random_hill_climb', 0.8674948240165632, 0.855072463768116, 0.84375]\n",
      "[0.91, 'random_hill_climb', 0.8488612836438924, 0.8454106280193237, 0.8383838383838383]\n"
     ]
    }
   ],
   "source": [
    "results = []\n",
    "algorithm = 'random_hill_climb'\n",
    "for i in range(1, 100, 10):\n",
    "        model = mlrose.NeuralNetwork(hidden_nodes=[4], activation='tanh',\n",
    "                                        algorithm=algorithm, max_iters=500,\n",
    "                                        bias=True, is_classifier=True, learning_rate=i/100,\n",
    "                                        early_stopping=True, clip_max=5, max_attempts=100,\n",
    "                                        random_state=rs)\n",
    "        model.fit(scaled_x1_train, y1_train)\n",
    "        y_train_pred = model.predict(scaled_x1_train)\n",
    "        y_train_accuracy = accuracy_score(y1_train, y_train_pred)\n",
    "\n",
    "        y_test_pred = model.predict(scaled_x1_test)\n",
    "        y_test_accuracy = accuracy_score(y1_test, y_test_pred)\n",
    "\n",
    "        f1score = f1_score(y1_test, y_test_pred)\n",
    "\n",
    "        results.append([i/100, algorithm, y_train_accuracy, y_test_accuracy, f1score])\n",
    "        print([i/100, algorithm, y_train_accuracy, y_test_accuracy, f1score])"
   ]
  },
  {
   "cell_type": "code",
   "execution_count": 88,
   "id": "5064da61",
   "metadata": {},
   "outputs": [],
   "source": [
    "df = pd.DataFrame(results, columns=[\"learning_rate\", \"Algorithm\", \"Train Accuracy\", \"Test Accuracy\", \"F1 Score\"])\n"
   ]
  },
  {
   "cell_type": "code",
   "execution_count": 91,
   "id": "e0b5daa9",
   "metadata": {},
   "outputs": [
    {
     "data": {
      "text/plain": [
       "<AxesSubplot:xlabel='learning_rate', ylabel='Test Accuracy'>"
      ]
     },
     "execution_count": 91,
     "metadata": {},
     "output_type": "execute_result"
    },
    {
     "data": {
      "image/png": "[encoded data removed]",
      "text/plain": [
       "<Figure size 432x288 with 1 Axes>"
      ]
     },
     "metadata": {
      "needs_background": "light"
     },
     "output_type": "display_data"
    }
   ],
   "source": [
    "sns.lineplot(data=df, x=\"learning_rate\", y=\"Test Accuracy\", hue=\"Algorithm\")\n"
   ]
  },
  {
   "cell_type": "code",
   "execution_count": 14,
   "id": "b76d462c",
   "metadata": {},
   "outputs": [
    {
     "name": "stdout",
     "output_type": "stream",
     "text": [
      "[1, 'random_hill_climb', 0.8695652173913043, 0.8695652173913043, 0.8586387434554974]\n",
      "[2, 'random_hill_climb', 0.8612836438923396, 0.8599033816425121, 0.8465608465608465]\n",
      "[3, 'random_hill_climb', 0.8612836438923396, 0.8405797101449275, 0.8253968253968254]\n",
      "[4, 'random_hill_climb', 0.8530020703933747, 0.8454106280193237, 0.8350515463917527]\n",
      "[5, 'random_hill_climb', 0.8612836438923396, 0.855072463768116, 0.8421052631578948]\n",
      "[6, 'random_hill_climb', 0.8612836438923396, 0.8405797101449275, 0.83248730964467]\n",
      "[7, 'random_hill_climb', 0.8509316770186336, 0.8599033816425121, 0.8542713567839196]\n",
      "[8, 'random_hill_climb', 0.855072463768116, 0.8695652173913043, 0.8586387434554974]\n",
      "[9, 'random_hill_climb', 0.8612836438923396, 0.855072463768116, 0.8404255319148937]\n",
      "[10, 'random_hill_climb', 0.8592132505175983, 0.8502415458937198, 0.837696335078534]\n"
     ]
    }
   ],
   "source": [
    "results = []\n",
    "for i in range(1, 11):\n",
    "    model = mlrose.NeuralNetwork(hidden_nodes=[4], activation='relu',\n",
    "                                algorithm=algorithm, max_iters=2000,\n",
    "                                bias=True, is_classifier=True, learning_rate=0.1,\n",
    "                                early_stopping=True, clip_max=5, max_attempts=100,\n",
    "                                restarts=10)\n",
    "    model.fit(scaled_x1_train, y1_train)\n",
    "    y_train_pred = model.predict(scaled_x1_train)\n",
    "    y_train_accuracy = accuracy_score(y1_train, y_train_pred)\n",
    "\n",
    "    y_test_pred = model.predict(scaled_x1_test)\n",
    "    y_test_accuracy = accuracy_score(y1_test, y_test_pred)\n",
    "\n",
    "    f1score = f1_score(y1_test, y_test_pred)\n",
    "    results.append([i, algorithm, y_train_accuracy, y_test_accuracy, f1score])\n",
    "    print([i, algorithm, y_train_accuracy, y_test_accuracy, f1score])"
   ]
  },
  {
   "cell_type": "code",
   "execution_count": 15,
   "id": "cae71348",
   "metadata": {},
   "outputs": [
    {
     "data": {
      "text/plain": [
       "<AxesSubplot:xlabel='Runs', ylabel='F1 Score'>"
      ]
     },
     "execution_count": 15,
     "metadata": {},
     "output_type": "execute_result"
    },
    {
     "data": {
      "image/png": "[encoded data removed]",
      "text/plain": [
       "<Figure size 432x288 with 1 Axes>"
      ]
     },
     "metadata": {
      "needs_background": "light"
     },
     "output_type": "display_data"
    }
   ],
   "source": [
    "\n",
    "runs = pd.DataFrame(results, columns=[\"Runs\", \"Algorithm\", \"Train Accuracy\", \"Test Accuracy\", \"F1 Score\"])\n",
    "sns.lineplot(data=runs, x=\"Runs\", y=\"F1 Score\")"
   ]
  },
  {
   "cell_type": "code",
   "execution_count": 17,
   "id": "f9933f3a",
   "metadata": {},
   "outputs": [
    {
     "name": "stdout",
     "output_type": "stream",
     "text": [
      "[1, 'random_hill_climb', 0.865424430641822, 0.855072463768116, 0.8404255319148937]\n",
      "[2, 'random_hill_climb', 0.8612836438923396, 0.8502415458937198, 0.837696335078534]\n",
      "[3, 'random_hill_climb', 0.8674948240165632, 0.855072463768116, 0.8404255319148937]\n",
      "[4, 'random_hill_climb', 0.865424430641822, 0.8454106280193237, 0.8297872340425532]\n",
      "[5, 'random_hill_climb', 0.855072463768116, 0.8599033816425121, 0.8542713567839196]\n",
      "[6, 'random_hill_climb', 0.8592132505175983, 0.855072463768116, 0.8404255319148937]\n",
      "[7, 'random_hill_climb', 0.865424430641822, 0.855072463768116, 0.8404255319148937]\n",
      "[8, 'random_hill_climb', 0.8674948240165632, 0.855072463768116, 0.8404255319148937]\n",
      "[9, 'random_hill_climb', 0.8633540372670807, 0.8502415458937198, 0.8342245989304814]\n",
      "[10, 'random_hill_climb', 0.8592132505175983, 0.8502415458937198, 0.8342245989304814]\n"
     ]
    }
   ],
   "source": [
    "results = []\n",
    "for i in range(1, 11):\n",
    "    model = mlrose.NeuralNetwork(hidden_nodes=[4], activation='sigmoid',\n",
    "                                algorithm=algorithm, max_iters=2000,\n",
    "                                bias=True, is_classifier=True, learning_rate=0.1,\n",
    "                                early_stopping=True, clip_max=5, max_attempts=100,\n",
    "                                restarts=10)\n",
    "    model.fit(scaled_x1_train, y1_train)\n",
    "    y_train_pred = model.predict(scaled_x1_train)\n",
    "    y_train_accuracy = accuracy_score(y1_train, y_train_pred)\n",
    "\n",
    "    y_test_pred = model.predict(scaled_x1_test)\n",
    "    y_test_accuracy = accuracy_score(y1_test, y_test_pred)\n",
    "\n",
    "    f1score = f1_score(y1_test, y_test_pred)\n",
    "    results.append([i, algorithm, y_train_accuracy, y_test_accuracy, f1score])\n",
    "    print([i, algorithm, y_train_accuracy, y_test_accuracy, f1score])"
   ]
  },
  {
   "cell_type": "code",
   "execution_count": 100,
   "id": "62c34886",
   "metadata": {},
   "outputs": [
    {
     "name": "stdout",
     "output_type": "stream",
     "text": [
      "[1, 'simulated_annealing', 0.44306418219461696, 0.4492753623188406, 0.6174496644295302]\n",
      "[1001, 'simulated_annealing', 0.8530020703933747, 0.8599033816425121, 0.8557213930348259]\n",
      "[2001, 'simulated_annealing', 0.855072463768116, 0.8309178743961353, 0.8108108108108107]\n",
      "[3001, 'simulated_annealing', 0.855072463768116, 0.8309178743961353, 0.8108108108108107]\n",
      "[4001, 'simulated_annealing', 0.8488612836438924, 0.8405797101449275, 0.8176795580110496]\n",
      "[5001, 'simulated_annealing', 0.8571428571428571, 0.8502415458937198, 0.8268156424581005]\n",
      "[6001, 'simulated_annealing', 0.8405797101449275, 0.8405797101449275, 0.8092485549132947]\n",
      "[7001, 'simulated_annealing', 0.8426501035196687, 0.8309178743961353, 0.7953216374269005]\n",
      "[8001, 'simulated_annealing', 0.8364389233954451, 0.8309178743961353, 0.7904191616766468]\n",
      "[9001, 'simulated_annealing', 0.8530020703933747, 0.8405797101449275, 0.8070175438596492]\n",
      "[10001, 'simulated_annealing', 0.8364389233954451, 0.8357487922705314, 0.7976190476190477]\n",
      "[11001, 'simulated_annealing', 0.8488612836438924, 0.8260869565217391, 0.788235294117647]\n",
      "[12001, 'simulated_annealing', 0.8405797101449275, 0.8357487922705314, 0.7976190476190477]\n",
      "[13001, 'simulated_annealing', 0.84472049689441, 0.8309178743961353, 0.7976878612716763]\n",
      "[14001, 'simulated_annealing', 0.8488612836438924, 0.8260869565217391, 0.788235294117647]\n",
      "[15001, 'simulated_annealing', 0.8467908902691511, 0.8260869565217391, 0.788235294117647]\n",
      "[16001, 'simulated_annealing', 0.8488612836438924, 0.8405797101449275, 0.8114285714285714]\n",
      "[17001, 'simulated_annealing', 0.8571428571428571, 0.8454106280193237, 0.8202247191011236]\n",
      "[18001, 'simulated_annealing', 0.8488612836438924, 0.8454106280193237, 0.8202247191011236]\n",
      "[19001, 'simulated_annealing', 0.8405797101449275, 0.8357487922705314, 0.8045977011494253]\n",
      "[20001, 'simulated_annealing', 0.8467908902691511, 0.8405797101449275, 0.8092485549132947]\n",
      "[21001, 'simulated_annealing', 0.84472049689441, 0.8309178743961353, 0.7953216374269005]\n",
      "[22001, 'simulated_annealing', 0.84472049689441, 0.8260869565217391, 0.788235294117647]\n",
      "[23001, 'simulated_annealing', 0.84472049689441, 0.8260869565217391, 0.788235294117647]\n",
      "[24001, 'simulated_annealing', 0.8426501035196687, 0.8357487922705314, 0.8023255813953488]\n",
      "[25001, 'simulated_annealing', 0.8426501035196687, 0.8454106280193237, 0.8139534883720929]\n",
      "[26001, 'simulated_annealing', 0.8509316770186336, 0.8260869565217391, 0.7857142857142856]\n",
      "[27001, 'simulated_annealing', 0.8488612836438924, 0.8164251207729468, 0.7624999999999998]\n",
      "[28001, 'simulated_annealing', 0.8509316770186336, 0.8405797101449275, 0.804733727810651]\n",
      "[29001, 'simulated_annealing', 0.8633540372670807, 0.8454106280193237, 0.8117647058823529]\n",
      "[30001, 'simulated_annealing', 0.855072463768116, 0.8357487922705314, 0.7999999999999999]\n",
      "[31001, 'simulated_annealing', 0.8530020703933747, 0.8357487922705314, 0.7951807228915663]\n",
      "[32001, 'simulated_annealing', 0.8592132505175983, 0.8309178743961353, 0.7953216374269005]\n",
      "[33001, 'simulated_annealing', 0.8530020703933747, 0.8357487922705314, 0.7951807228915663]\n",
      "[34001, 'simulated_annealing', 0.8488612836438924, 0.8309178743961353, 0.7953216374269005]\n",
      "[35001, 'simulated_annealing', 0.8509316770186336, 0.8309178743961353, 0.8]\n",
      "[36001, 'simulated_annealing', 0.8571428571428571, 0.8357487922705314, 0.8023255813953488]\n",
      "[37001, 'simulated_annealing', 0.8488612836438924, 0.8309178743961353, 0.7953216374269005]\n",
      "[38001, 'simulated_annealing', 0.84472049689441, 0.8260869565217391, 0.788235294117647]\n",
      "[39001, 'simulated_annealing', 0.8426501035196687, 0.8260869565217391, 0.7931034482758621]\n"
     ]
    }
   ],
   "source": [
    "results = []\n",
    "algorithm='simulated_annealing'\n",
    "for i in range(1, 40000, 1000):\n",
    "        model = mlrose.NeuralNetwork(hidden_nodes=[4], activation='relu',\n",
    "                                        algorithm=algorithm, max_iters=i,\n",
    "                                        bias=True, is_classifier=True, learning_rate=0.1,\n",
    "                                        early_stopping=True, clip_max=5, max_attempts=100,\n",
    "                                        random_state=rs)\n",
    "        model.fit(scaled_x1_train, y1_train)\n",
    "        y_train_pred = model.predict(scaled_x1_train)\n",
    "        y_train_accuracy = accuracy_score(y1_train, y_train_pred)\n",
    "\n",
    "        y_test_pred = model.predict(scaled_x1_test)\n",
    "        y_test_accuracy = accuracy_score(y1_test, y_test_pred)\n",
    "\n",
    "        f1score = f1_score(y1_test, y_test_pred)\n",
    "\n",
    "        results.append([i, algorithm, y_train_accuracy, y_test_accuracy, f1score])\n",
    "        print([i, algorithm, y_train_accuracy, y_test_accuracy, f1score])\n",
    "  "
   ]
  },
  {
   "cell_type": "code",
   "execution_count": 101,
   "id": "5abe4d30",
   "metadata": {},
   "outputs": [
    {
     "data": {
      "text/plain": [
       "<AxesSubplot:xlabel='Iterations', ylabel='F1 Score'>"
      ]
     },
     "execution_count": 101,
     "metadata": {},
     "output_type": "execute_result"
    },
    {
     "data": {
      "image/png": "[encoded data removed]",
      "text/plain": [
       "<Figure size 432x288 with 1 Axes>"
      ]
     },
     "metadata": {
      "needs_background": "light"
     },
     "output_type": "display_data"
    }
   ],
   "source": [
    "df_sa = pd.DataFrame(results, columns=[\"Iterations\", \"Algorithm\", \"Train Accuracy\", \"Test Accuracy\", \"F1 Score\"])\n",
    "sns.lineplot(data=df_sa, x=\"Iterations\", y=\"F1 Score\", hue=\"Algorithm\")"
   ]
  },
  {
   "cell_type": "code",
   "execution_count": 102,
   "id": "7006cdbf",
   "metadata": {
    "scrolled": true
   },
   "outputs": [
    {
     "data": {
      "text/plain": [
       "<AxesSubplot:xlabel='Iterations', ylabel='Test Accuracy'>"
      ]
     },
     "execution_count": 102,
     "metadata": {},
     "output_type": "execute_result"
    },
    {
     "data": {
      "image/png": "[encoded data removed]",
      "text/plain": [
       "<Figure size 432x288 with 1 Axes>"
      ]
     },
     "metadata": {
      "needs_background": "light"
     },
     "output_type": "display_data"
    }
   ],
   "source": [
    "sns.lineplot(data=df_sa, x=\"Iterations\", y=\"Test Accuracy\", hue=\"Algorithm\")\n"
   ]
  },
  {
   "cell_type": "code",
   "execution_count": 103,
   "id": "ce43f792",
   "metadata": {},
   "outputs": [
    {
     "name": "stdout",
     "output_type": "stream",
     "text": [
      "[0.01, 'simulated_annealing', 0.4658385093167702, 0.45893719806763283, 0.6241610738255033]\n",
      "[0.11, 'simulated_annealing', 0.8530020703933747, 0.8405797101449275, 0.8176795580110496]\n",
      "[0.21, 'simulated_annealing', 0.8467908902691511, 0.8405797101449275, 0.8092485549132947]\n",
      "[0.31, 'simulated_annealing', 0.8509316770186336, 0.8454106280193237, 0.8333333333333333]\n",
      "[0.41, 'simulated_annealing', 0.8467908902691511, 0.8454106280193237, 0.836734693877551]\n",
      "[0.51, 'simulated_annealing', 0.8530020703933747, 0.8309178743961353, 0.8]\n",
      "[0.61, 'simulated_annealing', 0.855072463768116, 0.8599033816425121, 0.8557213930348259]\n",
      "[0.71, 'simulated_annealing', 0.8571428571428571, 0.8502415458937198, 0.8359788359788359]\n",
      "[0.81, 'simulated_annealing', 0.8322981366459627, 0.8309178743961353, 0.7852760736196318]\n",
      "[0.91, 'simulated_annealing', 0.8281573498964804, 0.821256038647343, 0.7643312101910829]\n"
     ]
    }
   ],
   "source": [
    "results = []\n",
    "algorithm='simulated_annealing'\n",
    "for i in range(1, 100, 10):\n",
    "        model = mlrose.NeuralNetwork(hidden_nodes=[4], activation='relu',\n",
    "                                        algorithm=algorithm, max_iters=2000,\n",
    "                                        bias=True, is_classifier=True, learning_rate=i/100,\n",
    "                                        early_stopping=True, clip_max=5, max_attempts=100,\n",
    "                                        random_state=rs)\n",
    "        model.fit(scaled_x1_train, y1_train)\n",
    "        y_train_pred = model.predict(scaled_x1_train)\n",
    "        y_train_accuracy = accuracy_score(y1_train, y_train_pred)\n",
    "\n",
    "        y_test_pred = model.predict(scaled_x1_test)\n",
    "        y_test_accuracy = accuracy_score(y1_test, y_test_pred)\n",
    "\n",
    "        f1score = f1_score(y1_test, y_test_pred)\n",
    "\n",
    "        results.append([i/100, algorithm, y_train_accuracy, y_test_accuracy, f1score])\n",
    "        print([i/100, algorithm, y_train_accuracy, y_test_accuracy, f1score])\n",
    "  "
   ]
  },
  {
   "cell_type": "code",
   "execution_count": 107,
   "id": "6c7ba372",
   "metadata": {},
   "outputs": [
    {
     "data": {
      "text/plain": [
       "<AxesSubplot:xlabel='learning_rate', ylabel='Test Accuracy'>"
      ]
     },
     "execution_count": 107,
     "metadata": {},
     "output_type": "execute_result"
    },
    {
     "data": {
      "image/png": "[encoded data removed]",
      "text/plain": [
       "<Figure size 432x288 with 1 Axes>"
      ]
     },
     "metadata": {
      "needs_background": "light"
     },
     "output_type": "display_data"
    }
   ],
   "source": [
    "df_sa1 = pd.DataFrame(results, columns=[\"learning_rate\", \"Algorithm\", \"Train Accuracy\", \"Test Accuracy\", \"F1 Score\"])\n",
    "sns.lineplot(data=df_sa1, x=\"learning_rate\", y=\"Test Accuracy\", hue=\"Algorithm\")"
   ]
  },
  {
   "cell_type": "code",
   "execution_count": 110,
   "id": "70046113",
   "metadata": {},
   "outputs": [
    {
     "name": "stdout",
     "output_type": "stream",
     "text": [
      "[1, 'simulated_annealing', 0.44306418219461696, 0.4492753623188406, 0.6174496644295302]\n",
      "[1001, 'simulated_annealing', 0.8509316770186336, 0.8405797101449275, 0.8156424581005587]\n",
      "[2001, 'simulated_annealing', 0.8530020703933747, 0.8405797101449275, 0.8176795580110496]\n",
      "[3001, 'simulated_annealing', 0.8530020703933747, 0.8405797101449275, 0.8176795580110496]\n",
      "[4001, 'simulated_annealing', 0.8488612836438924, 0.8454106280193237, 0.8202247191011236]\n",
      "[5001, 'simulated_annealing', 0.8488612836438924, 0.8454106280193237, 0.8202247191011236]\n",
      "[6001, 'simulated_annealing', 0.8530020703933747, 0.855072463768116, 0.8333333333333334]\n",
      "[7001, 'simulated_annealing', 0.8530020703933747, 0.8502415458937198, 0.8268156424581005]\n",
      "[8001, 'simulated_annealing', 0.855072463768116, 0.8454106280193237, 0.8279569892473119]\n",
      "[9001, 'simulated_annealing', 0.8364389233954451, 0.8454106280193237, 0.8139534883720929]\n",
      "[10001, 'simulated_annealing', 0.84472049689441, 0.8454106280193237, 0.8260869565217392]\n",
      "[11001, 'simulated_annealing', 0.855072463768116, 0.8454106280193237, 0.8117647058823529]\n",
      "[12001, 'simulated_annealing', 0.8509316770186336, 0.8309178743961353, 0.7904191616766468]\n",
      "[13001, 'simulated_annealing', 0.8509316770186336, 0.8454106280193237, 0.8160919540229884]\n",
      "[14001, 'simulated_annealing', 0.8571428571428571, 0.8357487922705314, 0.8068181818181818]\n",
      "[15001, 'simulated_annealing', 0.8488612836438924, 0.8357487922705314, 0.8023255813953488]\n",
      "[16001, 'simulated_annealing', 0.8612836438923396, 0.855072463768116, 0.8369565217391305]\n",
      "[17001, 'simulated_annealing', 0.8509316770186336, 0.8454106280193237, 0.8222222222222222]\n",
      "[18001, 'simulated_annealing', 0.8530020703933747, 0.8357487922705314, 0.8111111111111111]\n",
      "[19001, 'simulated_annealing', 0.84472049689441, 0.8260869565217391, 0.7906976744186047]\n",
      "[20001, 'simulated_annealing', 0.84472049689441, 0.8309178743961353, 0.7878787878787878]\n",
      "[21001, 'simulated_annealing', 0.8488612836438924, 0.8260869565217391, 0.7857142857142856]\n",
      "[22001, 'simulated_annealing', 0.8612836438923396, 0.855072463768116, 0.846938775510204]\n",
      "[23001, 'simulated_annealing', 0.8509316770186336, 0.8695652173913043, 0.8571428571428571]\n",
      "[24001, 'simulated_annealing', 0.8592132505175983, 0.8647342995169082, 0.8526315789473684]\n",
      "[25001, 'simulated_annealing', 0.8530020703933747, 0.8599033816425121, 0.8481675392670157]\n",
      "[26001, 'simulated_annealing', 0.8674948240165632, 0.8599033816425121, 0.8512820512820513]\n",
      "[27001, 'simulated_annealing', 0.8343685300207039, 0.8309178743961353, 0.7928994082840237]\n",
      "[28001, 'simulated_annealing', 0.855072463768116, 0.8454106280193237, 0.8160919540229884]\n",
      "[29001, 'simulated_annealing', 0.8467908902691511, 0.8260869565217391, 0.783132530120482]\n"
     ]
    }
   ],
   "source": [
    "results = []\n",
    "algorithm='simulated_annealing'\n",
    "for i in range(1, 30000, 1000):\n",
    "        model = mlrose.NeuralNetwork(hidden_nodes=[4], activation='relu',\n",
    "                                        algorithm=algorithm, max_iters=i,\n",
    "                                        bias=True, is_classifier=True, learning_rate=0.4,\n",
    "                                        early_stopping=True, clip_max=5, max_attempts=100,\n",
    "                                        random_state=rs)\n",
    "        model.fit(scaled_x1_train, y1_train)\n",
    "        y_train_pred = model.predict(scaled_x1_train)\n",
    "        y_train_accuracy = accuracy_score(y1_train, y_train_pred)\n",
    "\n",
    "        y_test_pred = model.predict(scaled_x1_test)\n",
    "        y_test_accuracy = accuracy_score(y1_test, y_test_pred)\n",
    "\n",
    "        f1score = f1_score(y1_test, y_test_pred)\n",
    "\n",
    "        results.append([i, algorithm, y_train_accuracy, y_test_accuracy, f1score])\n",
    "        print([i, algorithm, y_train_accuracy, y_test_accuracy, f1score])\n",
    "  "
   ]
  },
  {
   "cell_type": "code",
   "execution_count": 113,
   "id": "5ea44e97",
   "metadata": {},
   "outputs": [
    {
     "data": {
      "text/plain": [
       "<AxesSubplot:xlabel='Iterations', ylabel='Train Accuracy'>"
      ]
     },
     "execution_count": 113,
     "metadata": {},
     "output_type": "execute_result"
    },
    {
     "data": {
      "image/png": "[encoded data removed]",
      "text/plain": [
       "<Figure size 432x288 with 1 Axes>"
      ]
     },
     "metadata": {
      "needs_background": "light"
     },
     "output_type": "display_data"
    }
   ],
   "source": [
    "df_sa2 = pd.DataFrame(results, columns=[\"Iterations\", \"Algorithm\", \"Train Accuracy\", \"Test Accuracy\", \"F1 Score\"])\n",
    "sns.lineplot(data=df_sa2, x=\"Iterations\", y=\"Train Accuracy\", color=\"g\", label = \"Train Accuracy\")\n",
    "sns.lineplot(data=df_sa2, x=\"Iterations\", y=\"Test Accuracy\", color = \"r\",label = \"Test Accuracy\")"
   ]
  },
  {
   "cell_type": "code",
   "execution_count": 117,
   "id": "b4354570",
   "metadata": {},
   "outputs": [
    {
     "data": {
      "text/plain": [
       "0.8460144927536233"
      ]
     },
     "execution_count": 117,
     "metadata": {},
     "output_type": "execute_result"
    }
   ],
   "source": [
    "df_sa2['Test Accuracy'].mean()"
   ]
  },
  {
   "cell_type": "code",
   "execution_count": 119,
   "id": "7ba28bdb",
   "metadata": {},
   "outputs": [
    {
     "name": "stdout",
     "output_type": "stream",
     "text": [
      "[1, 'genetic_alg', 0.556935817805383, 0.5507246376811594, 0.0]\n",
      "[201, 'genetic_alg', 0.8281573498964804, 0.821256038647343, 0.7672955974842767]\n",
      "[401, 'genetic_alg', 0.8281573498964804, 0.821256038647343, 0.7672955974842767]\n",
      "[601, 'genetic_alg', 0.8281573498964804, 0.821256038647343, 0.7672955974842767]\n",
      "[801, 'genetic_alg', 0.8281573498964804, 0.821256038647343, 0.7643312101910829]\n"
     ]
    }
   ],
   "source": [
    "\n",
    "results = []\n",
    "algorithm = algorithms[2]\n",
    "for i in range(1, 1000, 200):\n",
    "        model = mlrose.NeuralNetwork(hidden_nodes=[2], activation='relu',\n",
    "                                        algorithm=algorithm, max_iters=i,\n",
    "                                        bias=True, is_classifier=True, learning_rate=0.4,\n",
    "                                        early_stopping=True, clip_max=5, max_attempts=100,\n",
    "                                        random_state=rs, pop_size=200, mutation_prob = 0.1)\n",
    "\n",
    "                                 \n",
    "        model.fit(scaled_x1_train, y1_train)\n",
    "        y_train_pred = model.predict(scaled_x1_train)\n",
    "        y_train_accuracy = accuracy_score(y1_train, y_train_pred)\n",
    "\n",
    "        y_test_pred = model.predict(scaled_x1_test)\n",
    "        y_test_accuracy = accuracy_score(y1_test, y_test_pred)\n",
    "\n",
    "        f1score = f1_score(y1_test, y_test_pred)\n",
    "\n",
    "        results.append([i, algorithm, y_train_accuracy, y_test_accuracy, f1score])\n",
    "        print([i, algorithm, y_train_accuracy, y_test_accuracy, f1score])"
   ]
  },
  {
   "cell_type": "code",
   "execution_count": 120,
   "id": "388072f0",
   "metadata": {},
   "outputs": [
    {
     "data": {
      "text/plain": [
       "<AxesSubplot:xlabel='Iterations', ylabel='F1 Score'>"
      ]
     },
     "execution_count": 120,
     "metadata": {},
     "output_type": "execute_result"
    },
    {
     "data": {
      "image/png": "[encoded data removed]",
      "text/plain": [
       "<Figure size 432x288 with 1 Axes>"
      ]
     },
     "metadata": {
      "needs_background": "light"
     },
     "output_type": "display_data"
    }
   ],
   "source": [
    "df_ga = pd.DataFrame(results, columns=[\"Iterations\", \"Algorithm\", \"Train Accuracy\", \"Test Accuracy\", \"F1 Score\"])\n",
    "sns.lineplot(data=df_ga, x=\"Iterations\", y=\"F1 Score\", hue=\"Algorithm\")"
   ]
  },
  {
   "cell_type": "code",
   "execution_count": 121,
   "id": "dbf37fb0",
   "metadata": {},
   "outputs": [
    {
     "data": {
      "text/plain": [
       "<AxesSubplot:xlabel='Iterations', ylabel='Test Accuracy'>"
      ]
     },
     "execution_count": 121,
     "metadata": {},
     "output_type": "execute_result"
    },
    {
     "data": {
      "image/png": "[encoded data removed]",
      "text/plain": [
       "<Figure size 432x288 with 1 Axes>"
      ]
     },
     "metadata": {
      "needs_background": "light"
     },
     "output_type": "display_data"
    }
   ],
   "source": [
    "sns.lineplot(data=df_ga, x=\"Iterations\", y=\"Test Accuracy\", hue=\"Algorithm\")"
   ]
  },
  {
   "cell_type": "code",
   "execution_count": 122,
   "id": "2c2c50d6",
   "metadata": {},
   "outputs": [
    {
     "name": "stdout",
     "output_type": "stream",
     "text": [
      "[['random_hill_climb', 0.7589943408966064, 0.8357487922705314, 0.0], ['simulated_annealing', 1.9774940013885498, 0.8309178743961353, 0.0], ['genetic_alg', 38.228403091430664, 0.8502415458937198, 0.0]]\n"
     ]
    }
   ],
   "source": [
    "times = []\n",
    "model = mlrose.NeuralNetwork(hidden_nodes=[4], activation='relu',\n",
    "                                algorithm=algorithms[0], max_iters=3000,\n",
    "                                bias=True, is_classifier=True, learning_rate=0.1,\n",
    "                                early_stopping=True, clip_max=5, max_attempts=100)\n",
    "start = time.time()    \n",
    "model.fit(scaled_x1_train, y1_train)\n",
    "traintime = time.time()-start\n",
    "start = time.time() \n",
    "y_train_pred = model.predict(scaled_x1_train)\n",
    "testime = time.time()-start\n",
    "y_train_accuracy = accuracy_score(y1_train, y_train_pred)\n",
    "\n",
    "y_test_pred = model.predict(scaled_x1_test)\n",
    "y_test_accuracy = accuracy_score(y1_test, y_test_pred)\n",
    "\n",
    "f1score = f1_score(y1_test, y_test_pred)\n",
    "\n",
    "times.append([algorithms[0], traintime, y_test_accuracy, testime])\n",
    "\n",
    "model = mlrose.NeuralNetwork(hidden_nodes=[4], activation='relu',\n",
    "                                        algorithm=algorithms[1], max_iters=3000,\n",
    "                                        bias=True, is_classifier=True, learning_rate=0.1,\n",
    "                                        early_stopping=True, clip_max=5, max_attempts=100,\n",
    "                                        random_state=rs)\n",
    "start = time.time()    \n",
    "model.fit(scaled_x1_train, y1_train)\n",
    "traintime = time.time()-start\n",
    "start = time.time() \n",
    "y_train_pred = model.predict(scaled_x1_train)\n",
    "testime = time.time()-start\n",
    "y_train_accuracy = accuracy_score(y1_train, y_train_pred)\n",
    "\n",
    "y_test_pred = model.predict(scaled_x1_test)\n",
    "y_test_accuracy = accuracy_score(y1_test, y_test_pred)\n",
    "\n",
    "f1score = f1_score(y1_test, y_test_pred)\n",
    "times.append([algorithms[1], traintime, y_test_accuracy, testime])\n",
    "\n",
    "model = mlrose.NeuralNetwork(hidden_nodes=[4], activation='relu',\n",
    "                                        algorithm=algorithms[2], max_iters=500,\n",
    "                                        bias=True, is_classifier=True, learning_rate=0.1,\n",
    "                                        early_stopping=True, clip_max=5, max_attempts=100,\n",
    "                                        random_state=rs, pop_size=200, mutation_prob = 0.1)\n",
    "start = time.time()    \n",
    "model.fit(scaled_x1_train, y1_train)\n",
    "traintime = time.time()-start\n",
    "start = time.time() \n",
    "y_train_pred = model.predict(scaled_x1_train)\n",
    "testime = time.time()-start\n",
    "y_train_accuracy = accuracy_score(y1_train, y_train_pred)\n",
    "\n",
    "y_test_pred = model.predict(scaled_x1_test)\n",
    "y_test_accuracy = accuracy_score(y1_test, y_test_pred)\n",
    "\n",
    "f1score = f1_score(y1_test, y_test_pred)\n",
    "times.append([algorithms[2], traintime, y_test_accuracy, testime])\n",
    "print(times)"
   ]
  },
  {
   "cell_type": "code",
   "execution_count": 123,
   "id": "88c02548",
   "metadata": {},
   "outputs": [],
   "source": [
    "df_times = pd.DataFrame(times, columns=[\"Algorithm\", \"Training Time\", \"Test Accuracy\", \"Testing Time\"])\n"
   ]
  },
  {
   "cell_type": "code",
   "execution_count": 124,
   "id": "c7246264",
   "metadata": {},
   "outputs": [
    {
     "data": {
      "text/html": [
       "<div>\n",
       "<style scoped>\n",
       "    .dataframe tbody tr th:only-of-type {\n",
       "        vertical-align: middle;\n",
       "    }\n",
       "\n",
       "    .dataframe tbody tr th {\n",
       "        vertical-align: top;\n",
       "    }\n",
       "\n",
       "    .dataframe thead th {\n",
       "        text-align: right;\n",
       "    }\n",
       "</style>\n",
       "<table border=\"1\" class=\"dataframe\">\n",
       "  <thead>\n",
       "    <tr style=\"text-align: right;\">\n",
       "      <th></th>\n",
       "      <th>Algorithm</th>\n",
       "      <th>Training Time</th>\n",
       "      <th>Test Accuracy</th>\n",
       "      <th>Testing Time</th>\n",
       "    </tr>\n",
       "  </thead>\n",
       "  <tbody>\n",
       "    <tr>\n",
       "      <th>0</th>\n",
       "      <td>random_hill_climb</td>\n",
       "      <td>0.758994</td>\n",
       "      <td>0.835749</td>\n",
       "      <td>0.0</td>\n",
       "    </tr>\n",
       "    <tr>\n",
       "      <th>1</th>\n",
       "      <td>simulated_annealing</td>\n",
       "      <td>1.977494</td>\n",
       "      <td>0.830918</td>\n",
       "      <td>0.0</td>\n",
       "    </tr>\n",
       "    <tr>\n",
       "      <th>2</th>\n",
       "      <td>genetic_alg</td>\n",
       "      <td>38.228403</td>\n",
       "      <td>0.850242</td>\n",
       "      <td>0.0</td>\n",
       "    </tr>\n",
       "  </tbody>\n",
       "</table>\n",
       "</div>"
      ],
      "text/plain": [
       "             Algorithm  Training Time  Test Accuracy  Testing Time\n",
       "0    random_hill_climb       0.758994       0.835749           0.0\n",
       "1  simulated_annealing       1.977494       0.830918           0.0\n",
       "2          genetic_alg      38.228403       0.850242           0.0"
      ]
     },
     "execution_count": 124,
     "metadata": {},
     "output_type": "execute_result"
    }
   ],
   "source": [
    "df_times.head()\n"
   ]
  },
  {
   "cell_type": "code",
   "execution_count": 125,
   "id": "f31a1375",
   "metadata": {},
   "outputs": [],
   "source": [
    "df_times = df_times.melt(id_vars=[\"Algorithm\"], \n",
    "        var_name=[\"Type\"], \n",
    "        value_name=\"Value\")"
   ]
  },
  {
   "cell_type": "code",
   "execution_count": 126,
   "id": "e49cef71",
   "metadata": {
    "scrolled": true
   },
   "outputs": [
    {
     "data": {
      "text/html": [
       "<div>\n",
       "<style scoped>\n",
       "    .dataframe tbody tr th:only-of-type {\n",
       "        vertical-align: middle;\n",
       "    }\n",
       "\n",
       "    .dataframe tbody tr th {\n",
       "        vertical-align: top;\n",
       "    }\n",
       "\n",
       "    .dataframe thead th {\n",
       "        text-align: right;\n",
       "    }\n",
       "</style>\n",
       "<table border=\"1\" class=\"dataframe\">\n",
       "  <thead>\n",
       "    <tr style=\"text-align: right;\">\n",
       "      <th></th>\n",
       "      <th>Algorithm</th>\n",
       "      <th>Type</th>\n",
       "      <th>Value</th>\n",
       "    </tr>\n",
       "  </thead>\n",
       "  <tbody>\n",
       "    <tr>\n",
       "      <th>0</th>\n",
       "      <td>random_hill_climb</td>\n",
       "      <td>Training Time</td>\n",
       "      <td>0.758994</td>\n",
       "    </tr>\n",
       "    <tr>\n",
       "      <th>1</th>\n",
       "      <td>simulated_annealing</td>\n",
       "      <td>Training Time</td>\n",
       "      <td>1.977494</td>\n",
       "    </tr>\n",
       "    <tr>\n",
       "      <th>2</th>\n",
       "      <td>genetic_alg</td>\n",
       "      <td>Training Time</td>\n",
       "      <td>38.228403</td>\n",
       "    </tr>\n",
       "    <tr>\n",
       "      <th>3</th>\n",
       "      <td>random_hill_climb</td>\n",
       "      <td>Test Accuracy</td>\n",
       "      <td>0.835749</td>\n",
       "    </tr>\n",
       "    <tr>\n",
       "      <th>4</th>\n",
       "      <td>simulated_annealing</td>\n",
       "      <td>Test Accuracy</td>\n",
       "      <td>0.830918</td>\n",
       "    </tr>\n",
       "    <tr>\n",
       "      <th>5</th>\n",
       "      <td>genetic_alg</td>\n",
       "      <td>Test Accuracy</td>\n",
       "      <td>0.850242</td>\n",
       "    </tr>\n",
       "    <tr>\n",
       "      <th>6</th>\n",
       "      <td>random_hill_climb</td>\n",
       "      <td>Testing Time</td>\n",
       "      <td>0.000000</td>\n",
       "    </tr>\n",
       "    <tr>\n",
       "      <th>7</th>\n",
       "      <td>simulated_annealing</td>\n",
       "      <td>Testing Time</td>\n",
       "      <td>0.000000</td>\n",
       "    </tr>\n",
       "    <tr>\n",
       "      <th>8</th>\n",
       "      <td>genetic_alg</td>\n",
       "      <td>Testing Time</td>\n",
       "      <td>0.000000</td>\n",
       "    </tr>\n",
       "  </tbody>\n",
       "</table>\n",
       "</div>"
      ],
      "text/plain": [
       "             Algorithm           Type      Value\n",
       "0    random_hill_climb  Training Time   0.758994\n",
       "1  simulated_annealing  Training Time   1.977494\n",
       "2          genetic_alg  Training Time  38.228403\n",
       "3    random_hill_climb  Test Accuracy   0.835749\n",
       "4  simulated_annealing  Test Accuracy   0.830918\n",
       "5          genetic_alg  Test Accuracy   0.850242\n",
       "6    random_hill_climb   Testing Time   0.000000\n",
       "7  simulated_annealing   Testing Time   0.000000\n",
       "8          genetic_alg   Testing Time   0.000000"
      ]
     },
     "execution_count": 126,
     "metadata": {},
     "output_type": "execute_result"
    }
   ],
   "source": [
    "df_times.head(20)"
   ]
  },
  {
   "cell_type": "code",
   "execution_count": 132,
   "id": "f009f12a",
   "metadata": {},
   "outputs": [
    {
     "name": "stdout",
     "output_type": "stream",
     "text": [
      "gradient_descent\n",
      "0.3248014450073242\n",
      "0.0\n",
      "[5001, 'gradient_descent', 0.8530020703933747, 0.8599033816425121, 0.14009661835748793, 0.8557213930348259]\n"
     ]
    }
   ],
   "source": [
    "algorithm = 'gradient_descent'\n",
    "print(algorithm)\n",
    "model = mlrose.NeuralNetwork(hidden_nodes=[2], activation='sigmoid',\n",
    "                                algorithm='gradient_descent', max_iters=3000,\n",
    "                                bias=True, is_classifier=True, learning_rate=0.01,\n",
    "                                early_stopping=True, clip_max=5, max_attempts=100,\n",
    "                                random_state=rs)\n",
    "start = time.time()    \n",
    "model.fit(scaled_x1_train, y1_train)\n",
    "traintime = time.time()-start\n",
    "print(traintime)\n",
    "start = time.time() \n",
    "y_train_pred = model.predict(scaled_x1_train)\n",
    "testime = time.time()-start\n",
    "print(testime)\n",
    "y_train_accuracy = accuracy_score(y1_train, y_train_pred)\n",
    "\n",
    "y_test_pred = model.predict(scaled_x1_test)\n",
    "y_test_accuracy = accuracy_score(y1_test, y_test_pred)\n",
    "\n",
    "y_test_error = mean_squared_error(y1_test, y_test_pred)\n",
    "\n",
    "f1score = f1_score(y1_test, y_test_pred)\n",
    "\n",
    "results.append([i, algorithm, y_train_accuracy, y_test_accuracy,y_test_error, f1score])\n",
    "print([i, algorithm, y_train_accuracy, y_test_accuracy,y_test_error, f1score])"
   ]
  },
  {
   "cell_type": "code",
   "execution_count": null,
   "id": "15c0a270",
   "metadata": {},
   "outputs": [],
   "source": []
  }
 ],
 "metadata": {
  "kernelspec": {
   "display_name": "Python 3 (ipykernel)",
   "language": "python",
   "name": "python3"
  },
  "language_info": {
   "codemirror_mode": {
    "name": "ipython",
    "version": 3
   },
   "file_extension": ".py",
   "mimetype": "text/x-python",
   "name": "python",
   "nbconvert_exporter": "python",
   "pygments_lexer": "ipython3",
   "version": "3.9.12"
  }
 },
 "nbformat": 4,
 "nbformat_minor": 5
}
